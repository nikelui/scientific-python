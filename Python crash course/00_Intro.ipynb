{
 "cells": [
  {
   "cell_type": "markdown",
   "metadata": {},
   "source": [
    "# A crash course in Python ![logo](../img/py-logo.png)\n",
    "## _Alias: how to survive those data processing and machine learning classes, having no programming experience_\n",
    "\n",
    "This is intended to be a very quick paced and fast introduction to both programming and the Python language. If you have never even got to the `hello world` stage, this will be your life jacket in the sea of zero and ones.\n",
    "It is not intended to be a full-fledged programming course, rather a well-organized reference that you can come to look at whenever you need.  \n",
    "It will also introduce the very basic fundamentals that will allow you to write structured programs.\n",
    "\n",
    "For a more in-depth study of the Python language, I suggest the nice [How to think like a computer scientist](http://www.greenteapress.com/thinkpython/thinkpython.html) book (also free to read)."
   ]
  },
  {
   "cell_type": "markdown",
   "metadata": {},
   "source": [
    "## Intro\n",
    "Python is a modern object-oriented programming language. It is very easy to learn, with a syntax similar to native English. It is said that the complexity of a language can be glimpsed by how much code you need to type to run a simple `hello world` program. Compare the following in Python3:"
   ]
  },
  {
   "cell_type": "code",
   "execution_count": null,
   "metadata": {},
   "outputs": [],
   "source": [
    "print('Hello, World!')"
   ]
  },
  {
   "cell_type": "markdown",
   "metadata": {},
   "source": [
    "With the same program in C:"
   ]
  },
  {
   "cell_type": "code",
   "execution_count": null,
   "metadata": {},
   "outputs": [],
   "source": [
    "#include <stdio>\n",
    "\n",
    "int main()  {\n",
    "    printf(\"Hello, World!\\n\");\n",
    "    return 0;\n",
    "}\n",
    "# NOTE: don't try to run this code, it will not work since it's C"
   ]
  },
  {
   "cell_type": "markdown",
   "metadata": {},
   "source": [
    "The following are some nice features of Python:\n",
    "+ <u>Object Oriented</u>: almost **everything** in Python is an object (modules, data types, variables...) and can be called like an object. For an intro on Object Oriented programming go [here](https://simple.wikipedia.org/wiki/Object-oriented_programming) (more on objects and classes will follow).\n",
    "+ <u>Dynamic typing</u>: you don't need to declare the type of a variable, it will be decided automatically based on its value. You can also assign a new value of a different type to that variable.\n",
    "+ <u>Dynamic memory management</u>: also, you don't need to allocate memory for your variables before assigning them a value.\n",
    "+ <u>Interpreted</u>: the code is not compiled, but it is executed at runtime. The execution is slower than compiled code, but it is much easier to prototype and make changes (you don't need to re-compile every time). You also get an interactive console for typing code on the fly.\n",
    "+ <u>Extensible</u>: it comes with a large standard library but, if you need it, you can write your own code to add functionality. The Python community is constantly growing and more and more modules are available for different purposes (eg. _numpy_ for numerical computation and _pandas_ for data analysis). You can also integrate different languages in your Python code (eg. using _Cython_ to run a pre-compiled C/C++ code).\n",
    "\n",
    "## Comparison with Matlab\n",
    "In order to have a similar level of functionality to Matlab, you need first to import some modules for numerical computation (mostly `numpy` and `scipy`) and a graphical library to represent data (usually `matplotlib`). Depending on your application, you might need some additional libraries.  \n",
    "There is a whole [section](https://docs.scipy.org/doc/numpy-1.15.0/user/numpy-for-matlab-users.html) in the SciPy documentation that deals with the differences between Numpy and Matlab. In short, you have similar functionality but the syntax is different because Matlab was developed as a scripting language for linear algebra (and is not so good with everything else), while Python is a general-purpose programming language."
   ]
  },
  {
   "cell_type": "code",
   "execution_count": null,
   "metadata": {},
   "outputs": [],
   "source": []
  }
 ],
 "metadata": {
  "kernelspec": {
   "display_name": "Python 3",
   "language": "python",
   "name": "python3"
  },
  "language_info": {
   "codemirror_mode": {
    "name": "ipython",
    "version": 3
   },
   "file_extension": ".py",
   "mimetype": "text/x-python",
   "name": "python",
   "nbconvert_exporter": "python",
   "pygments_lexer": "ipython3",
   "version": "3.6.8"
  }
 },
 "nbformat": 4,
 "nbformat_minor": 2
}
