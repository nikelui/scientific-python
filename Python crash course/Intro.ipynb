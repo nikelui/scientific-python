{
 "cells": [
  {
   "cell_type": "markdown",
   "metadata": {},
   "source": [
    "# A crash course in Python ![logo](../img/py-logo.png)\n",
    "## _Alias: how to survive those data processing and machine learning classes, having no programming experience_\n",
    "\n",
    "This is intended to be a very quick paced and fast introduction to both programming and the Python language. If you have never even got to the `hello world` stage, this will be your saving jacket in the sea of zero and ones.\n",
    "It is not intended to be a full-fledged programming course, rather a well-organized reference that you can come to look at whenever you need.  \n",
    "It will also introduce the very basic fundamentals that will allow you to write structured programs.\n",
    "\n",
    "For a more in-depth study of the Python language, I suggest the nice [How to think like a computer scientist](http://www.greenteapress.com/thinkpython/thinkpython.html) book (also free to read)."
   ]
  },
  {
   "cell_type": "code",
   "execution_count": null,
   "metadata": {},
   "outputs": [],
   "source": []
  }
 ],
 "metadata": {
  "kernelspec": {
   "display_name": "Python 3",
   "language": "python",
   "name": "python3"
  },
  "language_info": {
   "codemirror_mode": {
    "name": "ipython",
    "version": 3
   },
   "file_extension": ".py",
   "mimetype": "text/x-python",
   "name": "python",
   "nbconvert_exporter": "python",
   "pygments_lexer": "ipython3",
   "version": "3.6.8"
  }
 },
 "nbformat": 4,
 "nbformat_minor": 2
}
