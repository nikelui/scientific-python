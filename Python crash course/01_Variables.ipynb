{
 "cells": [
  {
   "cell_type": "markdown",
   "metadata": {},
   "source": [
    "## Variables\n",
    "Variables are a sort of ´container´ that hold your data, they have a _type_ and a _value_. There are several core data types in Python (int, float, string...) but if you need it, you can define your own data types or import them from external modules (eg. _numpy.array_). Since data types are also objects, they come with their own methods that can be called."
   ]
  },
  {
   "cell_type": "code",
   "execution_count": null,
   "metadata": {},
   "outputs": [],
   "source": [
    "# Example of string method\n",
    "'HeLLo, WorLD!'.upper() # converts characters to upper case"
   ]
  },
  {
   "cell_type": "markdown",
   "metadata": {},
   "source": [
    "Variables are assigned with the operator `=` which operates from right to left: the right argument is the value and it is assigned to the left argument, which is the variable name. A variable name can contain any sequence of alphanumeric characters or underscores `_`, but it must not begin with a number or be a Python [_reserved word_](https://docs.python.org/3/reference/lexical_analysis.html#keywords)."
   ]
  },
  {
   "cell_type": "code",
   "execution_count": null,
   "metadata": {},
   "outputs": [],
   "source": [
    "# This is a valid name\n",
    "QwertY123_45 = 145\n",
    "print(QwertY123_45)"
   ]
  },
  {
   "cell_type": "code",
   "execution_count": null,
   "metadata": {},
   "outputs": [],
   "source": [
    "# This is not a valid name\n",
    "12AB = 5\n",
    "print(12AB)"
   ]
  },
  {
   "cell_type": "markdown",
   "metadata": {},
   "source": [
    "### Arithmetic Operators\n",
    "You can use the standard operators for addition, subtraction, multiplication, division and  modulus (remainder operator) `+ - * / %`  \n",
    "The operator for the exponentiation is `**`, as opposed to Matlab that uses `^`  \n",
    "Also note that the division operator will perform floating point division even if the arguments are integers, by automatically converting the values to float (this is called _casting_). To perform integer division, use the `//` operator instead."
   ]
  },
  {
   "cell_type": "code",
   "execution_count": null,
   "metadata": {},
   "outputs": [],
   "source": [
    "# This will perform floating point division\n",
    "5 / 4"
   ]
  },
  {
   "cell_type": "code",
   "execution_count": null,
   "metadata": {},
   "outputs": [],
   "source": [
    "# This instead will perform integer division. Note that if one of the input is a float, the output will also be a float.\n",
    "5 // 4"
   ]
  },
  {
   "cell_type": "markdown",
   "metadata": {},
   "source": [
    "For more advanced mathematical operators, you need to import an external module (like _math_ or _numpy_)"
   ]
  },
  {
   "cell_type": "code",
   "execution_count": null,
   "metadata": {},
   "outputs": [],
   "source": [
    "import math # standard mathematical library\n",
    "\n",
    "print('sin(pi/2) = ' + str(math.sin(math.pi / 2))) # calculate the sin of 90°\n",
    "print('sqrt(2) = ' + str(math.sqrt(2))) # calculate the square root of 2"
   ]
  },
  {
   "cell_type": "markdown",
   "metadata": {},
   "source": [
    "Note that you can't use the arithmetic operators on strings (even if they contain numbers), so `'2' - '5'` is an illegal operation. An exception are the operator `+` which performs string concatenation and `*`, which repeats the string N times (where N must be an integer):"
   ]
  },
  {
   "cell_type": "code",
   "execution_count": null,
   "metadata": {},
   "outputs": [],
   "source": [
    "print('One'+'Two') # prints 'OneTwo'\n",
    "print('One'*3) # prints OneOneOne"
   ]
  },
  {
   "cell_type": "markdown",
   "metadata": {},
   "source": [
    "There are also mixed assignment/arithmetic operators, which are useful to update variables."
   ]
  },
  {
   "cell_type": "code",
   "execution_count": null,
   "metadata": {},
   "outputs": [],
   "source": [
    "a = 0\n",
    "print(a)\n",
    "a += 5 # equivalent to a = a+5\n",
    "print(a)\n",
    "a -= 3 # equivalent to a = a-3\n",
    "print(a)\n",
    "a *= 4 # equivalent to a = a*4\n",
    "print(a)\n",
    "a /= 2 # equivalent to a = a/2. Can also use a //= 2 for integer division\n",
    "print(a)\n",
    "a %= 3 # equivalent to a = a%3\n",
    "print(a)"
   ]
  },
  {
   "cell_type": "markdown",
   "metadata": {},
   "source": [
    "### Comparators and booleans\n",
    "You can compare variables with the standard comparison operators\n",
    "``` python\n",
    "== # equal to. Do not confuse it with the assignment operator =\n",
    "!= # not equal to\n",
    "<= # less than or equal to\n",
    "< # less than\n",
    ">= # greater than or equal to\n",
    "> # greater than\n",
    "```\n",
    "These operators will give as output a boolean value (either True or False). You can combine any number of conditions with the logical operators `and`, `or` and `not`"
   ]
  },
  {
   "cell_type": "code",
   "execution_count": null,
   "metadata": {},
   "outputs": [],
   "source": [
    "print(2 > 3) # false\n",
    "print(2 <= 3) # true\n",
    "print(2 > 1 and 3 < 5) # true\n",
    "print(2 > 1 and 3 < 2) # false"
   ]
  },
  {
   "cell_type": "code",
   "execution_count": 2,
   "metadata": {},
   "outputs": [],
   "source": [
    "# Just an empty cell to try stuff\n",
    "# write your code below and run this cell to see the output\n",
    "\n",
    "\n"
   ]
  },
  {
   "cell_type": "code",
   "execution_count": null,
   "metadata": {},
   "outputs": [],
   "source": []
  }
 ],
 "metadata": {
  "kernelspec": {
   "display_name": "Python 3",
   "language": "python",
   "name": "python3"
  },
  "language_info": {
   "codemirror_mode": {
    "name": "ipython",
    "version": 3
   },
   "file_extension": ".py",
   "mimetype": "text/x-python",
   "name": "python",
   "nbconvert_exporter": "python",
   "pygments_lexer": "ipython3",
   "version": "3.6.8"
  }
 },
 "nbformat": 4,
 "nbformat_minor": 2
}
