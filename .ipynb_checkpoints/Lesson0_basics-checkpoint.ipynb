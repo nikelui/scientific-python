{
 "cells": [
  {
   "cell_type": "markdown",
   "metadata": {},
   "source": [
    "# Lesson 0: an overview of Python\n",
    "_This will be a very quick review on the programming language, it is not intended to be a full-fledged programming course._"
   ]
  },
  {
   "cell_type": "markdown",
   "metadata": {},
   "source": [
    "Python is a modern object-oriented programming language. It is very easy to learn, with a syntax similar to native English. It is said that the complexity of a language can be glimpsed by how much code you need to type to run a simple `hello world` program. Compare the following in Python3:"
   ]
  },
  {
   "cell_type": "code",
   "execution_count": null,
   "metadata": {},
   "outputs": [],
   "source": [
    "print('Hello, World!')"
   ]
  },
  {
   "cell_type": "markdown",
   "metadata": {},
   "source": [
    "With the same program in C:"
   ]
  },
  {
   "cell_type": "raw",
   "metadata": {},
   "source": [
    "#include <stdio>\n",
    "\n",
    "int main()  {\n",
    "    printf(\"Hello, World!\\n\");\n",
    "    return 0;\n",
    "}"
   ]
  },
  {
   "cell_type": "markdown",
   "metadata": {},
   "source": [
    "The following are some nice features of Python:\n",
    "+ <u>Object Oriented</u>: almost **everything** in Python is an object (modules, data types, variables...) and can be called like an object.\n",
    "+ <u>Dynamic typing</u>: you don't need to declare the type of a variable, it will be decided automatically based on its value. You can also assign a new value of a different type to that variable.\n",
    "+ <u>Dynamic memory management</u>: also, you don't need to allocate memory for your variables before assigning them a value.\n",
    "+ <u>Interpreted</u>: the code is not compiled, but it is executed at runtime. The execution is slower than compiled code, but it is much easier to prototype and make changes (you don't need to re-compile every time). You also get an interactive console for typing code on the fly.\n",
    "+ <u>Extensible</u>: it comes with a large standard library but, if you need it, you can write your own code to add functionality. The Python community is constantly growing and more and more modules are available for different purposes (eg. _numpy_ for numerical computation and _pandas_ for data analysis). You can also integrate different languages in your Python code (eg. using _Cython_ to run a pre-compiled C/C++ code)."
   ]
  },
  {
   "cell_type": "markdown",
   "metadata": {},
   "source": [
    "### Variables\n",
    "Variables are a sort of ´container´ that hold your data, they have a _type_ and a _value_. There are several core data types in Python (int, float, string...) but if you need it, you can define your own data types or import them from external modules (eg. _numpy.array_). Since data types are also objects, they come with their own methods that can be called."
   ]
  },
  {
   "cell_type": "code",
   "execution_count": 37,
   "metadata": {},
   "outputs": [
    {
     "data": {
      "text/plain": [
       "'HELLO, WORLD!'"
      ]
     },
     "execution_count": 37,
     "metadata": {},
     "output_type": "execute_result"
    }
   ],
   "source": [
    "# Example of string method\n",
    "'HeLLo, WorLD!'.upper() # converts characters to upper case"
   ]
  },
  {
   "cell_type": "markdown",
   "metadata": {},
   "source": [
    "Variables are assigned with the operator `=` which operates from right to left: the right argument is the value and it is assigned to the left argument, which is the variable name. A variable name can contain any sequence of alphanumeric characters or underscores `_`, but it must not begin with a number or be a Python _reserved word_."
   ]
  },
  {
   "cell_type": "code",
   "execution_count": 51,
   "metadata": {},
   "outputs": [
    {
     "name": "stdout",
     "output_type": "stream",
     "text": [
      "145\n"
     ]
    }
   ],
   "source": [
    "# This is a valid name\n",
    "QwertY123_45 = 145\n",
    "print(QwertY123_45)"
   ]
  },
  {
   "cell_type": "code",
   "execution_count": 50,
   "metadata": {},
   "outputs": [
    {
     "ename": "SyntaxError",
     "evalue": "invalid syntax (<ipython-input-50-323e7d993467>, line 2)",
     "output_type": "error",
     "traceback": [
      "\u001b[1;36m  File \u001b[1;32m\"<ipython-input-50-323e7d993467>\"\u001b[1;36m, line \u001b[1;32m2\u001b[0m\n\u001b[1;33m    12AB = 5\u001b[0m\n\u001b[1;37m       ^\u001b[0m\n\u001b[1;31mSyntaxError\u001b[0m\u001b[1;31m:\u001b[0m invalid syntax\n"
     ]
    }
   ],
   "source": [
    "# This is not a valid name\n",
    "12AB = 5\n",
    "print(12AB)"
   ]
  },
  {
   "cell_type": "markdown",
   "metadata": {},
   "source": [
    "### Arithmetic Operators\n",
    "You can use the standard operators for addition, subtraction, multiplication, division and  modulus (remainder operator) `+ - * / %`  \n",
    "The operator for the exponentiation is `**`, as opposed to some languages that use `^`  \n",
    "Also note that the division operator will perform floating point division even if the arguments are integers, by automatically casting the values. To perform integer division, use the `//` operator instead."
   ]
  },
  {
   "cell_type": "code",
   "execution_count": 15,
   "metadata": {},
   "outputs": [
    {
     "data": {
      "text/plain": [
       "1.25"
      ]
     },
     "execution_count": 15,
     "metadata": {},
     "output_type": "execute_result"
    }
   ],
   "source": [
    "# This will perform floating point division\n",
    "5 / 4"
   ]
  },
  {
   "cell_type": "code",
   "execution_count": 19,
   "metadata": {},
   "outputs": [
    {
     "data": {
      "text/plain": [
       "1"
      ]
     },
     "execution_count": 19,
     "metadata": {},
     "output_type": "execute_result"
    }
   ],
   "source": [
    "# This instead will perform integer division. Note that if one of the input is a float, the output will also be a float.\n",
    "5 // 4"
   ]
  },
  {
   "cell_type": "code",
   "execution_count": 34,
   "metadata": {},
   "outputs": [],
   "source": [
    "# Sandbox cell: try here to write your code\n"
   ]
  }
 ],
 "metadata": {
  "kernelspec": {
   "display_name": "Python 3",
   "language": "python",
   "name": "python3"
  },
  "language_info": {
   "codemirror_mode": {
    "name": "ipython",
    "version": 3
   },
   "file_extension": ".py",
   "mimetype": "text/x-python",
   "name": "python",
   "nbconvert_exporter": "python",
   "pygments_lexer": "ipython3",
   "version": "3.7.3"
  }
 },
 "nbformat": 4,
 "nbformat_minor": 2
}
