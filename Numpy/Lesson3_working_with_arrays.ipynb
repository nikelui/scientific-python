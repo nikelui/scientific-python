{
 "cells": [
  {
   "cell_type": "markdown",
   "metadata": {},
   "source": [
    "# Working with the arrays"
   ]
  },
  {
   "cell_type": "markdown",
   "metadata": {},
   "source": [
    "## Some array properties"
   ]
  },
  {
   "cell_type": "markdown",
   "metadata": {},
   "source": [
    "To know how many elements are contained in an array, you can use the `size` and `shape` properties"
   ]
  },
  {
   "cell_type": "code",
   "execution_count": 2,
   "metadata": {},
   "outputs": [
    {
     "name": "stdout",
     "output_type": "stream",
     "text": [
      "shape of a: (4, 5), n. of elements: 20\n",
      "shape of b: (2, 1, 3, 2), n. of elements: 12\n"
     ]
    }
   ],
   "source": [
    "import numpy as np\n",
    "\n",
    "a = np.zeros((4,5)) # 4 rows by 5 columns 2D array\n",
    "b = np.zeros((2,1,3,2)) # a complicated 4D array\n",
    "\n",
    "print('shape of a: '+str(a.shape)+', n. of elements: '+str(a.size))\n",
    "print('shape of b: '+str(b.shape)+', n. of elements: '+str(b.size))"
   ]
  },
  {
   "cell_type": "markdown",
   "metadata": {},
   "source": [
    "The `dtype` property, tells you what is the [data type](https://docs.scipy.org/doc/numpy/reference/arrays.dtypes.html) of the array elements."
   ]
  },
  {
   "cell_type": "code",
   "execution_count": 29,
   "metadata": {},
   "outputs": [
    {
     "name": "stdout",
     "output_type": "stream",
     "text": [
      "uint8\n",
      "float32\n",
      "complex64\n"
     ]
    }
   ],
   "source": [
    "c = np.zeros((4,5),dtype='uint8') # unsigned int 8-bit\n",
    "d = np.zeros((4,5),dtype='float32') # floating point 32-bit\n",
    "e = np.zeros((4,5),dtype='complex64') # complex floating point 64-bit\n",
    "\n",
    "print(c.dtype)\n",
    "print(d.dtype)\n",
    "print(e.dtype)"
   ]
  },
  {
   "cell_type": "markdown",
   "metadata": {},
   "source": [
    "Note that once an array is created with a data type, you can't assign values which have a different data type (they will be automatically casted to the correct one). If you want to change the data type of an array, you have to use the `.astype()` method."
   ]
  },
  {
   "cell_type": "code",
   "execution_count": 10,
   "metadata": {},
   "outputs": [
    {
     "name": "stdout",
     "output_type": "stream",
     "text": [
      "uint8\n",
      "float64\n"
     ]
    }
   ],
   "source": [
    "print(c.dtype)\n",
    "print(c.astype('float64').dtype)"
   ]
  },
  {
   "cell_type": "markdown",
   "metadata": {},
   "source": [
    "Some more information about the memory usage is given by `itemsize`, `nbytes`, `ndim` and `strides`"
   ]
  },
  {
   "cell_type": "code",
   "execution_count": 30,
   "metadata": {},
   "outputs": [
    {
     "name": "stdout",
     "output_type": "stream",
     "text": [
      "bytes per element: 1\n",
      "bytes per whole array: 20\n",
      "n. of dimensions: 2\n",
      "n. of elements to \"cross\" for each dimension: (5, 1)\n"
     ]
    }
   ],
   "source": [
    "print('bytes per element: ' + str(c.itemsize)) # remember, the dtype is uint 8-bit\n",
    "print('bytes per whole array: ' + str(c.nbytes))\n",
    "print('n. of dimensions: ' + str(c.ndim))\n",
    "print('n. of elements to \"cross\" for each dimension: ' + str(c.strides))"
   ]
  },
  {
   "cell_type": "markdown",
   "metadata": {},
   "source": [
    "## Indexing\n"
   ]
  },
  {
   "cell_type": "code",
   "execution_count": null,
   "metadata": {},
   "outputs": [],
   "source": []
  }
 ],
 "metadata": {
  "kernelspec": {
   "display_name": "Python 3",
   "language": "python",
   "name": "python3"
  },
  "language_info": {
   "codemirror_mode": {
    "name": "ipython",
    "version": 3
   },
   "file_extension": ".py",
   "mimetype": "text/x-python",
   "name": "python",
   "nbconvert_exporter": "python",
   "pygments_lexer": "ipython3",
   "version": "3.6.8"
  }
 },
 "nbformat": 4,
 "nbformat_minor": 2
}
