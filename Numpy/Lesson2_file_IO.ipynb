{
 "cells": [
  {
   "cell_type": "markdown",
   "metadata": {},
   "source": [
    "# File I/O\n",
    "You can read data from files normally with Pyhton I/O functions, but Numpy has some useful alternatives. If you have a formatted text file (.txt, .csv, .dat, etc...) you can use `genfromtxt()` to read it into a numpy array. To save an array to a text file, you use `savetxt()`\n",
    "```\n",
    "data = genfromtxt('input_data.csv') # to read data\n",
    "savetxt('output.dat',data,[format]) # to save data on file\n",
    "```\n",
    "Numpy also has its own binary file format `.npy` to store arrays (similar to Matlab `.mat`)\n",
    "```\n",
    "data = random.rand(10,5)\n",
    "save('random_data.npy') # save to file\n",
    "new_data = load('random_data.npy') # load file\n",
    "```\n",
    "with `save` you can only store one array per file. If you need to save multiple arrays, you can use `savez`, which will save them in an uncompressed .npz file. It is basically a zip file containing multiple .npy files ([more info](https://docs.scipy.org/doc/numpy/reference/generated/numpy.savez.html))"
   ]
  },
  {
   "cell_type": "code",
   "execution_count": 18,
   "metadata": {},
   "outputs": [
    {
     "data": {
      "application/vnd.jupyter.widget-view+json": {
       "model_id": "34fb6321b04a492fac6b2e265fa17946",
       "version_major": 2,
       "version_minor": 0
      },
      "text/plain": [
       "interactive(children=(IntSlider(value=3, description='xlim', max=10, min=1), Output()), _dom_classes=('widget-…"
      ]
     },
     "metadata": {},
     "output_type": "display_data"
    },
    {
     "data": {
      "text/plain": [
       "<function __main__.plot1(xlim=3)>"
      ]
     },
     "execution_count": 18,
     "metadata": {},
     "output_type": "execute_result"
    }
   ],
   "source": [
    "# Example, load an ECG signal contained in a .txt file\n",
    "import numpy as np\n",
    "from matplotlib import pyplot as plt\n",
    "from ipywidgets import interact,widgets\n",
    "\n",
    "ecg = np.genfromtxt('ecg.txt')\n",
    "dt = ecg[0] # the first value is the time step\n",
    "ecg = ecg[1:]\n",
    "x = np.linspace(0,dt*(len(ecg)-1),len(ecg)) # generate time axis\n",
    "\n",
    "# Plotting\n",
    "def plot1(xlim=3):\n",
    "    plt.plot(x,ecg,'-b',linewidth=1.5)\n",
    "    plt.grid(True,which='both',linestyle=':')\n",
    "    plt.xlim([0,xlim])\n",
    "    plt.ylim([-1,3.5])\n",
    "    plt.xlabel('time (s)')\n",
    "    plt.ylabel('ECG')\n",
    "    plt.show(block=False)\n",
    "\n",
    "# This is just a cool widget to visualize data in an interactive way\n",
    "interact(plot1,xlim=widgets.IntSlider(min=1, max=10, step=1, value=3))"
   ]
  },
  {
   "cell_type": "code",
   "execution_count": null,
   "metadata": {},
   "outputs": [],
   "source": []
  }
 ],
 "metadata": {
  "kernelspec": {
   "display_name": "Python 3",
   "language": "python",
   "name": "python3"
  },
  "language_info": {
   "codemirror_mode": {
    "name": "ipython",
    "version": 3
   },
   "file_extension": ".py",
   "mimetype": "text/x-python",
   "name": "python",
   "nbconvert_exporter": "python",
   "pygments_lexer": "ipython3",
   "version": "3.6.8"
  }
 },
 "nbformat": 4,
 "nbformat_minor": 2
}
