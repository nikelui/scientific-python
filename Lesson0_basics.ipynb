{
 "cells": [
  {
   "cell_type": "markdown",
   "metadata": {},
   "source": [
    "# Lesson 0: an overview of Python\n",
    "_This will be a very quick review on the programming language, it is not intended to be a full-fledged programming course._"
   ]
  },
  {
   "cell_type": "markdown",
   "metadata": {},
   "source": [
    "Python is a modern object-oriented programming language. It is very easy to learn, with a syntax similar to native English. It is said that the complexity of a language can be glimpsed by how much code you need to type to run a simple `hello world` program. Compare the following in Python3:"
   ]
  },
  {
   "cell_type": "code",
   "execution_count": null,
   "metadata": {},
   "outputs": [],
   "source": [
    "print('Hello, World!')"
   ]
  },
  {
   "cell_type": "markdown",
   "metadata": {},
   "source": [
    "With the same program in C:"
   ]
  },
  {
   "cell_type": "code",
   "execution_count": null,
   "metadata": {},
   "outputs": [],
   "source": [
    "#include <stdio>\n",
    "\n",
    "int main()  {\n",
    "    printf(\"Hello, World!\\n\");\n",
    "    return 0;\n",
    "}\n",
    "# NOTE: don't try to run this code, it will not work since it's C"
   ]
  },
  {
   "cell_type": "markdown",
   "metadata": {},
   "source": [
    "The following are some nice features of Python:\n",
    "+ <u>Object Oriented</u>: almost **everything** in Python is an object (modules, data types, variables...) and can be called like an object. For an intro on Object Oriented programming go [here](https://simple.wikipedia.org/wiki/Object-oriented_programming) (more on objects and classes will follow).\n",
    "+ <u>Dynamic typing</u>: you don't need to declare the type of a variable, it will be decided automatically based on its value. You can also assign a new value of a different type to that variable.\n",
    "+ <u>Dynamic memory management</u>: also, you don't need to allocate memory for your variables before assigning them a value.\n",
    "+ <u>Interpreted</u>: the code is not compiled, but it is executed at runtime. The execution is slower than compiled code, but it is much easier to prototype and make changes (you don't need to re-compile every time). You also get an interactive console for typing code on the fly.\n",
    "+ <u>Extensible</u>: it comes with a large standard library but, if you need it, you can write your own code to add functionality. The Python community is constantly growing and more and more modules are available for different purposes (eg. _numpy_ for numerical computation and _pandas_ for data analysis). You can also integrate different languages in your Python code (eg. using _Cython_ to run a pre-compiled C/C++ code)."
   ]
  },
  {
   "cell_type": "markdown",
   "metadata": {},
   "source": [
    "### Variables\n",
    "Variables are a sort of ´container´ that hold your data, they have a _type_ and a _value_. There are several core data types in Python (int, float, string...) but if you need it, you can define your own data types or import them from external modules (eg. _numpy.array_). Since data types are also objects, they come with their own methods that can be called."
   ]
  },
  {
   "cell_type": "code",
   "execution_count": null,
   "metadata": {},
   "outputs": [],
   "source": [
    "# Example of string method\n",
    "'HeLLo, WorLD!'.upper() # converts characters to upper case"
   ]
  },
  {
   "cell_type": "markdown",
   "metadata": {},
   "source": [
    "Variables are assigned with the operator `=` which operates from right to left: the right argument is the value and it is assigned to the left argument, which is the variable name. A variable name can contain any sequence of alphanumeric characters or underscores `_`, but it must not begin with a number or be a Python _reserved word_."
   ]
  },
  {
   "cell_type": "code",
   "execution_count": null,
   "metadata": {},
   "outputs": [],
   "source": [
    "# This is a valid name\n",
    "QwertY123_45 = 145\n",
    "print(QwertY123_45)"
   ]
  },
  {
   "cell_type": "code",
   "execution_count": null,
   "metadata": {},
   "outputs": [],
   "source": [
    "# This is not a valid name\n",
    "12AB = 5\n",
    "print(12AB)"
   ]
  },
  {
   "cell_type": "markdown",
   "metadata": {},
   "source": [
    "### Arithmetic Operators\n",
    "You can use the standard operators for addition, subtraction, multiplication, division and  modulus (remainder operator) `+ - * / %`  \n",
    "The operator for the exponentiation is `**`, as opposed to Matlab that uses `^`  \n",
    "Also note that the division operator will perform floating point division even if the arguments are integers, by automatically casting the values. To perform integer division, use the `//` operator instead."
   ]
  },
  {
   "cell_type": "code",
   "execution_count": null,
   "metadata": {},
   "outputs": [],
   "source": [
    "# This will perform floating point division\n",
    "5 / 4"
   ]
  },
  {
   "cell_type": "code",
   "execution_count": null,
   "metadata": {},
   "outputs": [],
   "source": [
    "# This instead will perform integer division. Note that if one of the input is a float, the output will also be a float.\n",
    "5 // 4"
   ]
  },
  {
   "cell_type": "markdown",
   "metadata": {},
   "source": [
    "For more advanced mathematical operators, you need to import an external module (like _math_ or _numpy_)"
   ]
  },
  {
   "cell_type": "code",
   "execution_count": null,
   "metadata": {},
   "outputs": [],
   "source": [
    "import math # standard mathematical library\n",
    "\n",
    "print('sin(pi/2) = ' + str(math.sin(math.pi / 2))) # calculate the sin of 90°\n",
    "print('sqrt(2) = ' + str(math.sqrt(2))) # calculate the square root of 2"
   ]
  },
  {
   "cell_type": "markdown",
   "metadata": {},
   "source": [
    "Note that you can't use the arithmetc operators on strings (even if they contain numbers), so `'2' - '5'` is an illegal operation. An exception are the operator `+` which performs sting concatenation and `*`, which repeats the string N times (where N must be an integer):"
   ]
  },
  {
   "cell_type": "code",
   "execution_count": null,
   "metadata": {},
   "outputs": [],
   "source": [
    "print('One'+'Two') # prints 'OneTwo'\n",
    "print('One'*3) # prints OneOneOne"
   ]
  },
  {
   "cell_type": "markdown",
   "metadata": {},
   "source": [
    "There are also mixed assignment/arithmetic operators, which are useful to update variables."
   ]
  },
  {
   "cell_type": "code",
   "execution_count": 51,
   "metadata": {},
   "outputs": [
    {
     "name": "stdout",
     "output_type": "stream",
     "text": [
      "0\n",
      "5\n",
      "2\n",
      "8\n",
      "4.0\n",
      "1.0\n"
     ]
    }
   ],
   "source": [
    "a = 0\n",
    "print(a)\n",
    "a += 5 # equivalent to a = a+5\n",
    "print(a)\n",
    "a -= 3 # equivalent to a = a-3\n",
    "print(a)\n",
    "a *= 4 # equivalent to a = a*4\n",
    "print(a)\n",
    "a /= 2 # equivalent to a = a/2. Can also use a //= 2 for integer division\n",
    "print(a)\n",
    "a %= 3 # equivalent to a = a%3\n",
    "print(a)"
   ]
  },
  {
   "cell_type": "markdown",
   "metadata": {},
   "source": [
    "### Conditionals and booleans\n",
    "You can compare variables with the standard comparison operators\n",
    "``` python\n",
    "== # equal to. Do not confuse it with the assignment operator =\n",
    "!= # not equal to\n",
    "<= # less than or equal to\n",
    "< # less than\n",
    ">= # greater than or equal to\n",
    "> # greater than\n",
    "```\n",
    "These operators will give as output a boolean value (either True or False). You can combine any number of conditions with the logical operators `and`, `or` and `not`"
   ]
  },
  {
   "cell_type": "code",
   "execution_count": null,
   "metadata": {},
   "outputs": [],
   "source": [
    "print(2 > 3) # false\n",
    "print(2 <= 3) # true\n",
    "print(2 > 1 and 3 < 5) # true\n",
    "print(2 > 1 and 3 < 2) # false"
   ]
  },
  {
   "cell_type": "markdown",
   "metadata": {},
   "source": [
    "### Functions\n",
    "A function is a 'shortcut' to execute a set of instructions. It takes input arguments and can return values. A list of the functions in the Python standard library can be found in the [official documentation](https://docs.python.org/3/library/functions.html). To extend the functionality of the language, you can import external _modules_, which are collections of functions, classes and/or constants. For example, here is a list of the contents of the standard [math module](https://docs.python.org/3/library/math.html#module-math)."
   ]
  },
  {
   "cell_type": "code",
   "execution_count": null,
   "metadata": {},
   "outputs": [],
   "source": [
    "import math\n",
    "print('pi = %.5f' % math.pi) # print value of pi\n",
    "print('sin(60) = %.5f' % math.sin(math.pi/3)) # sin of 60 deg\n",
    "print('sqrt(3)/2 = %.5f' % (math.sqrt(3)/2))"
   ]
  },
  {
   "cell_type": "markdown",
   "metadata": {},
   "source": [
    "If you import a module this way, you have to call the functions using the dot notation (eg. `math.cos()`). There are also other ways to import modules:"
   ]
  },
  {
   "cell_type": "code",
   "execution_count": null,
   "metadata": {},
   "outputs": [],
   "source": [
    "from math import sin,cos,pi # import math.sin, math.cos and math.pi in the current namespace\n",
    "from math import tan as t # import math.tan and assign it to the name 't'\n",
    "print('sin(60) = %.5f' % sin(pi/3))\n",
    "print('cos(60) = %.5f' % cos(pi/3))\n",
    "print('tan(60) = %.5f' % t(pi/3))"
   ]
  },
  {
   "cell_type": "code",
   "execution_count": null,
   "metadata": {},
   "outputs": [],
   "source": [
    "from math import * # import all functions of the math module in the namespace\n",
    "print('2^8 = %d' % pow(2,8))\n",
    "print('log10(3000) = %.5f' % log10(3000))\n",
    "print('pi/3 = %.1f deg' % degrees(pi/3))"
   ]
  },
  {
   "cell_type": "markdown",
   "metadata": {},
   "source": [
    "You can also define you own functions using the following syntax:"
   ]
  },
  {
   "cell_type": "code",
   "execution_count": null,
   "metadata": {},
   "outputs": [],
   "source": [
    "def func_name(args):\n",
    "    # instructions here\n",
    "    ret = args + 1 # example\n",
    "    # return values if necessary\n",
    "    return ret"
   ]
  },
  {
   "cell_type": "markdown",
   "metadata": {},
   "source": [
    "The name of the function must follow the same rules for the variables names. The body of the function **must** be indented (Python uses indentation instead of curly braces to define code blocks). As a standard, the indentation is 4 white spaces.  \n",
    "In Python functions are also objects, so they come with their own attributes. A very useful one is the `__doc__` attribute, which contains the doumentation of the function (if present)."
   ]
  },
  {
   "cell_type": "code",
   "execution_count": 63,
   "metadata": {},
   "outputs": [
    {
     "name": "stdout",
     "output_type": "stream",
     "text": [
      "max(iterable, *[, default=obj, key=func]) -> value\n",
      "max(arg1, arg2, *args, *[, key=func]) -> value\n",
      "\n",
      "With a single iterable argument, return its biggest item. The\n",
      "default keyword-only argument specifies an object to return if\n",
      "the provided iterable is empty.\n",
      "With two or more arguments, return the largest argument.\n"
     ]
    }
   ],
   "source": [
    "print(max.__doc__)"
   ]
  },
  {
   "cell_type": "markdown",
   "metadata": {},
   "source": [
    "To include a documentation you must specify in the first line of your function as a string. For easier formatting, it is reccomended to define the string with triple quotes `\"\"\"like this\"\"\"`, this way you can span multiple lines and your formatting is preserved."
   ]
  },
  {
   "cell_type": "code",
   "execution_count": 64,
   "metadata": {},
   "outputs": [
    {
     "name": "stdout",
     "output_type": "stream",
     "text": [
      "Just an example function.\n",
      "This function will not do anything, but return the argument.\n",
      "The fist line must be properly indented or it will throw an error.\n",
      "\n",
      "It was declared only to show how to include documentation.\n",
      "    See how your formatting is preserved with triple quotes.\n"
     ]
    }
   ],
   "source": [
    "def fun(a):\n",
    "    \"\"\"Just an example function.\n",
    "This function will not do anything, but return the argument.\n",
    "The fist line must be properly indented or it will throw an error.\n",
    "\n",
    "It was declared only to show how to include documentation.\n",
    "    See how your formatting is preserved with triple quotes.\"\"\"\n",
    "    # here goes the body of the function\n",
    "    return a\n",
    "\n",
    "print(fun.__doc__)"
   ]
  },
  {
   "cell_type": "markdown",
   "metadata": {},
   "source": [
    "### Conditionals\n",
    "You can alter the flow of your program using the classic if/else construct."
   ]
  },
  {
   "cell_type": "code",
   "execution_count": null,
   "metadata": {},
   "outputs": [],
   "source": [
    "a = 5\n",
    "if a <=3:  # The condition should evaluate to a boolean value. You can put it in parentheses for clarity, but it is not mandatory\n",
    "    print('a <= 3') # the body has to be indented\n",
    "else:\n",
    "    print('a > 3')"
   ]
  },
  {
   "cell_type": "markdown",
   "metadata": {},
   "source": [
    "You can also nest the conditions with `elif` (short for `else: if...`)"
   ]
  },
  {
   "cell_type": "code",
   "execution_count": null,
   "metadata": {},
   "outputs": [],
   "source": [
    "a = 5\n",
    "if (a <=2):\n",
    "    print('a <= 2')\n",
    "elif (a < 5):\n",
    "    print('2 < a < 5')\n",
    "elif (a <= 8):\n",
    "    print('5 <= a <= 8')\n",
    "else:\n",
    "    print('a > 8')"
   ]
  },
  {
   "cell_type": "markdown",
   "metadata": {},
   "source": [
    "Which is equivalent to"
   ]
  },
  {
   "cell_type": "code",
   "execution_count": null,
   "metadata": {},
   "outputs": [],
   "source": [
    "a = 6\n",
    "if (a <=2):\n",
    "    print('a <= 2')\n",
    "else:\n",
    "    if (a < 5):\n",
    "        print('2 < a < 5')\n",
    "    else:\n",
    "        if (a <= 8):\n",
    "            print('5 <= a <= 8')\n",
    "        else:\n",
    "            print('a > 8')"
   ]
  },
  {
   "cell_type": "markdown",
   "metadata": {},
   "source": [
    "### Iteration\n",
    "There are two way to iterate: using `while` or `for` loops. The while loop works like in other languages, until a condition stays true:"
   ]
  },
  {
   "cell_type": "code",
   "execution_count": null,
   "metadata": {},
   "outputs": [],
   "source": [
    "i = 0\n",
    "while(i < 5):\n",
    "    print('Iteration n. %d' % i)\n",
    "    i += 1"
   ]
  },
  {
   "cell_type": "markdown",
   "metadata": {},
   "source": [
    "The for loop is a bit different, as it loops on a set of elements or on an iterator object:"
   ]
  },
  {
   "cell_type": "code",
   "execution_count": 53,
   "metadata": {},
   "outputs": [
    {
     "name": "stdout",
     "output_type": "stream",
     "text": [
      "iteration n. 0\n",
      "iteration n. 1\n",
      "iteration n. 2\n",
      "iteration n. 3\n",
      "iteration n. 4\n"
     ]
    }
   ],
   "source": [
    "for i in range(5): # note: the function range() returns an iterator object\n",
    "    print('iteration n. %d' % i)"
   ]
  },
  {
   "cell_type": "markdown",
   "metadata": {},
   "source": [
    "This can be a very powerful way to loop through a list of elements:"
   ]
  },
  {
   "cell_type": "code",
   "execution_count": 56,
   "metadata": {},
   "outputs": [
    {
     "name": "stdout",
     "output_type": "stream",
     "text": [
      "Movie 1: The Phantom Menace\n",
      "Movie 2: Attack of the clones\n",
      "Movie 3: Revenge of the Sith\n",
      "Movie 4: A New Hope\n",
      "Movie 5: The Empire strikes back\n",
      "Movie 6: Return of the Jedi\n"
     ]
    }
   ],
   "source": [
    "SW_movies = ['The Phantom Menace','Attack of the clones','Revenge of the Sith','A New Hope', 'The Empire strikes back','Return of the Jedi']\n",
    "\n",
    "for (i,movie) in enumerate(SW_movies,start=1):\n",
    "    print('Movie %d: %s' % (i,movie))"
   ]
  },
  {
   "cell_type": "markdown",
   "metadata": {},
   "source": [
    "You can alter the flow of an iteration by using `break` and `continue`. The first instruction will interrupt and exit from the loop, the second one will skip the rest of the instruction in the current iteration and move to the next."
   ]
  },
  {
   "cell_type": "code",
   "execution_count": 62,
   "metadata": {},
   "outputs": [
    {
     "name": "stdout",
     "output_type": "stream",
     "text": [
      "Break test:\n",
      "Iteration n. 0\n",
      "Iteration n. 1\n",
      "Iteration n. 2\n",
      "Iteration n. 3\n",
      "Iteration n. 4\n",
      "\n",
      "Continue test:\n",
      "Iteration n. 0\n",
      "Iteration n. 1\n",
      "Iteration n. 2\n",
      "Iteration n. 4\n",
      "Iteration n. 5\n"
     ]
    }
   ],
   "source": [
    "# Example of break\n",
    "print('Break test:')\n",
    "for i in range(10):\n",
    "    if (i == 5):\n",
    "        break\n",
    "    print('Iteration n. %d' % i)\n",
    "\n",
    "# Example of continue\n",
    "print('\\nContinue test:')\n",
    "for i in range(6):\n",
    "    if(i == 3):\n",
    "        continue\n",
    "    print('Iteration n. %d' % i)"
   ]
  },
  {
   "cell_type": "code",
   "execution_count": null,
   "metadata": {},
   "outputs": [],
   "source": []
  }
 ],
 "metadata": {
  "kernelspec": {
   "display_name": "Python 3",
   "language": "python",
   "name": "python3"
  },
  "language_info": {
   "codemirror_mode": {
    "name": "ipython",
    "version": 3
   },
   "file_extension": ".py",
   "mimetype": "text/x-python",
   "name": "python",
   "nbconvert_exporter": "python",
   "pygments_lexer": "ipython3",
   "version": "3.6.8"
  }
 },
 "nbformat": 4,
 "nbformat_minor": 2
}
