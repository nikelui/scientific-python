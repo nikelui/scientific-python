{
 "cells": [
  {
   "cell_type": "markdown",
   "metadata": {},
   "source": [
    "# ![python logo](./img/py-logo.png) Python for scientific computing ![python logo](./img/py-logo.png)\n",
    "<!-- Markdown title. Only works in jupyter lab -->"
   ]
  },
  {
   "cell_type": "markdown",
   "metadata": {},
   "source": [
    "<div style=''>\n",
    "    <img src='./img/py-logo.png'; style=\"height:2em; float:left; alt:'logo'; padding-right:10px\">\n",
    "    <h1>Python for scientific computing</h1>\n",
    "</div>\n",
    "<!-- HTML title, now with proper alignment.\n",
    "as of now, this is the nicest looking one (but with only one logo)-->"
   ]
  },
  {
   "cell_type": "markdown",
   "metadata": {},
   "source": [
    "![python for scientific computing](./img/title_b.png)\n",
    "<!-- image as title (safe option)*\n",
    "Note: does not look good on dark theme, change color-->"
   ]
  },
  {
   "cell_type": "markdown",
   "metadata": {
    "slideshow": {
     "slide_type": "slide"
    }
   },
   "source": [
    "## Introduction\n",
    "The idea for this short course was born from a request from some of my collegues. Some of them come from a backgrouds where none or little computer science (or even basic programming) is done. One of the most used tools in the academic sector is Matlab: it is fairly easy to learn, very powerful and with a lot of toolbox for various applications. However, with time I have come to dislike it as its flaws became more and more evident (starting with its terrible backwards-compatibility). In particular, the high level of complexity I have encountered in doing normal scripting tasks and the lack of Object-Oriented functionality is what persuaded me to find an alternative.\n",
    "\n",
    "So, **why Pyhton**? I have first come in contact with this language many years ago in the field of videogames (it was actually a simple scripting language based on python and the `pygame` module). To get more complex behaviour, knowledge of the python language was required, so I started to study it (on the book _Think Python-1st edition_, which at the time was based on Python2). I immediately loved it for the concept of _Objects_, which was new to me, and for its simplicity compared to C, so much than the author of the book recomended it as an alternative to teach programming in schools.  \n",
    "It was not until much later that I have started using it for scientific computations, when I was in university. We were supposed to use Matlab in some classes and the compatibility with Linux was not great at that time. When I had no lab computers available and I had to use my own laptop, I started to use [GNU Octave](https://www.gnu.org/software/octave/), but the results were not satisfying. At this time I finally discovered _numpy_ and _matplotlib_ and a new world opened before me."
   ]
  },
  {
   "cell_type": "markdown",
   "metadata": {},
   "source": [
    "### <font color='red'>Notes</font>\n",
    "+ We will use the most recent version of Python3 (as of today v3.7) as it is the version with most support. There are some differences between Python2 and Python3, most notably the `print` function. If you get some syntax error, check the version actually in use in your system.\n",
    "+ If everything goes as planned, you should be able to run the code snippets directly on the notebook (assuming I will able to set-up a server). Otherwise you should install python on your computer. You will need to install the following (still in definition):\n",
    "    + `python 3.7` (is the latest and most easy to find. If you have an old version it is suggested to upgrade)\n",
    "    + `numpy` (for numerical calculations. At least version 1.16)\n",
    "    + `matplotlib` (for plotting data. At least version 3.0)\n",
    "    + `python-opencv` (for image processing. At least version 3.4)"
   ]
  },
  {
   "cell_type": "markdown",
   "metadata": {
    "slideshow": {
     "slide_type": "slide"
    }
   },
   "source": [
    "## Study Material\n",
    "My main reference and source of inspiration for the lectures will be a nice ebook by Robert Johansson ([Introduction to Scientific Computing in Python](http://www.freetechbooks.com/introduction-to-scientific-computing-in-python-t1117.html)), which is free and distributed with a Creative Commons 3.0 licence.\n",
    "\n",
    "I will assume that most of the people following this course have already some experience with a programming language (Matlab, C, Pascal, whatever...) so I will not focus too much on the syntax or very basic concept of python itself (such as conditionals, loops and data types) in order to jump directly to more interesting topics. If you feel that you are lacking in these aspects, or just need a quick review I will provide a _**Lesson 0**_ ([link] coming) for self-study.  \n",
    "Additional resources that I have found useful are:\n",
    "+ [Think Python 2e - How to Think like a Computer Scientist](https://greenteapress.com/wp/think-python-2e/) by Allen B. Downey (the second edition is on Python3)\n",
    "+ The [interactive version](https://runestone.academy/runestone/static/thinkcspy/index.html) (hosted at runestone.academy), based on the previous book and enriched with much more content, like GUI programming and the turtle ![turtle-icon](./img/turtle-icon.png)\n",
    "+ The official [Python foundation](https://www.python.org/) website. A bit chaotic, but you can find downloads, guides for installation, the official documentation and more.\n",
    "    + Install additional packages using your preferred method (`pip` or `conda`): `numpy`, `scipy`, `matplotlib`, `opencv-python`"
   ]
  },
  {
   "cell_type": "markdown",
   "metadata": {},
   "source": [
    "Now run the code in the next cell to start a Turtle race"
   ]
  },
  {
   "cell_type": "code",
   "execution_count": null,
   "metadata": {},
   "outputs": [],
   "source": [
    "#!/bin/python3\n",
    "\n",
    "from turtle import *\n",
    "from random import randint\n",
    "\n",
    "speed(0)\n",
    "penup()\n",
    "goto(-140, 140)\n",
    "\n",
    "for step in range(15):\n",
    "  write(step, align='center')\n",
    "  right(90)\n",
    "  for num in range(8):\n",
    "    penup()\n",
    "    forward(10)\n",
    "    pendown()\n",
    "    forward(10)\n",
    "  penup()\n",
    "  backward(160)\n",
    "  left(90)\n",
    "  forward(20)\n",
    "\n",
    "red = Turtle()\n",
    "red.color('red')\n",
    "red.shape('turtle')\n",
    "\n",
    "red.penup()\n",
    "red.goto(-160, 100)\n",
    "red.pendown()\n",
    "\n",
    "for turn in range(10):\n",
    "  red.right(36)\n",
    "\n",
    "blue = Turtle()\n",
    "blue.color('blue')\n",
    "blue.shape('turtle')\n",
    "\n",
    "blue.penup()\n",
    "blue.goto(-160, 70)\n",
    "blue.pendown()\n",
    "\n",
    "for turn in range(72):\n",
    "  blue.left(5)\n",
    "\n",
    "green = Turtle()\n",
    "green.shape('turtle')\n",
    "green.color('green')\n",
    "\n",
    "green.penup()\n",
    "green.goto(-160, 40)\n",
    "green.pendown()\n",
    "\n",
    "for turn in range(60):\n",
    "  green.right(6)\n",
    "\n",
    "yellow = Turtle()\n",
    "yellow.shape('turtle')\n",
    "yellow.color('turquoise')\n",
    "\n",
    "yellow.penup()\n",
    "yellow.goto(-160, 10)\n",
    "yellow.pendown()\n",
    "\n",
    "for turn in range(30):\n",
    "  yellow.left(12)\n",
    "\n",
    "for turn in range(100):\n",
    "  red.forward(randint(1,5))\n",
    "  blue.forward(randint(1,5))\n",
    "  green.forward(randint(1,5))\n",
    "  yellow.forward(randint(1,5))\n",
    "\n",
    "mainloop()"
   ]
  }
 ],
 "metadata": {
  "kernelspec": {
   "display_name": "Python 3",
   "language": "python",
   "name": "python3"
  },
  "language_info": {
   "codemirror_mode": {
    "name": "ipython",
    "version": 3
   },
   "file_extension": ".py",
   "mimetype": "text/x-python",
   "name": "python",
   "nbconvert_exporter": "python",
   "pygments_lexer": "ipython3",
   "version": "3.7.3"
  }
 },
 "nbformat": 4,
 "nbformat_minor": 2
}
