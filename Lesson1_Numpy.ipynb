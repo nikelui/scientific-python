{
 "cells": [
  {
   "cell_type": "markdown",
   "metadata": {},
   "source": [
    "# Numpy\n",
    "Numpy is an all-purpose numerical computational library in Python. Its basic element and strong feature is the _array_. It is implemented in C and Fortran for maximum speed and wrapped in Python using Cython.  \n",
    "Numpy strength is all about _vectorialization_. If you can rewrite a problem so that it can be solved as a vector problem (instead of looping, for example), you will see enormous improvement in computational speed.  \n",
    "Example below (the performance depends on the machine, but you should see a large improvement in time)"
   ]
  },
  {
   "cell_type": "code",
   "execution_count": 1,
   "metadata": {},
   "outputs": [
    {
     "name": "stdout",
     "output_type": "stream",
     "text": [
      "36.2 ms ± 715 µs per loop (mean ± std. dev. of 7 runs, 10 loops each)\n"
     ]
    }
   ],
   "source": [
    "%%timeit\n",
    "# Sum all the numbers from 1 to 1e6\n",
    "# First the old way\n",
    "tot = 0\n",
    "for i in range(1,1000001):\n",
    "    tot += i"
   ]
  },
  {
   "cell_type": "code",
   "execution_count": 2,
   "metadata": {},
   "outputs": [
    {
     "name": "stdout",
     "output_type": "stream",
     "text": [
      "1.9 ms ± 43.6 µs per loop (mean ± std. dev. of 7 runs, 1 loop each)\n"
     ]
    }
   ],
   "source": [
    "%%timeit\n",
    "import numpy as np\n",
    "# Sum all the numbers from 1 to 1e6\n",
    "# Now using Numpy\n",
    "tot = np.sum(np.arange(1,1000001,dtype='long'))"
   ]
  },
  {
   "cell_type": "markdown",
   "metadata": {},
   "source": [
    "There are a few differences between arrays and Python lists and tuples:\n",
    "+ Arrays occupy contiguous block in memory (like in C)\n",
    "+ Arrays elements must all be of the same type (no int/float/string mixing). The element type can be specified with the keyword _`dtype`_ at array creation, and if possible automatic casting will be performed.\n",
    "+ Arrays dimensions must be consistent (they are less flexible than lists). Think of them as N-dimensional vectors (or matrices)"
   ]
  },
  {
   "cell_type": "markdown",
   "metadata": {},
   "source": [
    "## Creating an Array\n",
    "There are a few way to create arrays in numpy. The most useful one is the function `array()`, which converts the standard Python data types (lists, tuples) in numpy arrays. Note that all the elements of the original variable must be of the same type (casting will be attempted)."
   ]
  },
  {
   "cell_type": "code",
   "execution_count": 8,
   "metadata": {},
   "outputs": [
    {
     "name": "stdout",
     "output_type": "stream",
     "text": [
      "[1 2 3 4 5]\n",
      "[[1 2]\n",
      " [3 4]]\n",
      "[5. 4. 3.]\n",
      "[1.+0.j 3.+0.j 6.+0.j]\n"
     ]
    }
   ],
   "source": [
    "# Examples\n",
    "import numpy as np\n",
    "a = np.array([1,2,3,4,5]) # 1D vector\n",
    "b = np.array([[1,2],[3,4]]) # 2D vector\n",
    "c = np.array([5,4,3],dtype='float') # with casting\n",
    "d = np.array([1,3,6],dtype='complex') # also with imaginary numbers\n",
    "\n",
    "for arr in [a,b,c,d]:\n",
    "    print(arr)"
   ]
  },
  {
   "cell_type": "markdown",
   "metadata": {},
   "source": [
    "Anoter way to create arrays, is to use numpy generator functions (similar to Matlab):\n",
    "+ `arange([start,]stop[,step,dtype])`: create a range of values. Stop value is not usually included.\n",
    "+ `linspace(start,stop,num)`: create a linear interval sampled in N points (extremities included)\n",
    "+ `logspace(start,stop,num,base)`: same as linspace, but in logarithmic scale (default is base 10)\n",
    "+ `random.rand(nrows,ncols)`: random numbers in the range [0,1] (uniform distribution)\n",
    "+ `random.randn(nrows,ncols)`: random numbers (standard normal distribution)\n",
    "+ `diag([list])`: digonal matrix\n",
    "+ `zeros(nrows,ncols)`: zeros matrix\n",
    "+ `ones(nrows,ncols)`: ones matrix\n",
    "+ `eye(nrows,ncols)`: zeros matrix with ones on the diagonal"
   ]
  },
  {
   "cell_type": "markdown",
   "metadata": {},
   "source": [
    "## File I/O\n",
    "You can read data from files normally with Pyhton I/O functions, but Numpy has some useful alternatives. If you have a formatted text file (.txt, .csv, .dat, etc...) you can use `genfromtxt()` to read it into a numpy array. To save an array to a text file, you use `savetxt()`\n",
    "```\n",
    "data = genfromtxt('input_data.csv') # to read data\n",
    "savetxt('output.dat',data,[format]) # to save data on file\n",
    "```\n",
    "Numpy also has its own binary file format `.npy` to store arrays (similar to Matlab `.mat`)\n",
    "```\n",
    "data = random.rand(10,5)\n",
    "save('random_data.npy') # save to file\n",
    "new_data = load('random_data.npy') # load file\n",
    "```\n",
    "with `save` you can only store one array per file. If you need to save multiple arrays, you can use `savez`, which will save them in an uncompressed .npz file. It is basically a zip file containing multiple .npy files [(more info)](https://docs.scipy.org/doc/numpy/reference/generated/numpy.savez.html)"
   ]
  },
  {
   "cell_type": "code",
   "execution_count": null,
   "metadata": {},
   "outputs": [],
   "source": []
  }
 ],
 "metadata": {
  "kernelspec": {
   "display_name": "Python 3",
   "language": "python",
   "name": "python3"
  },
  "language_info": {
   "codemirror_mode": {
    "name": "ipython",
    "version": 3
   },
   "file_extension": ".py",
   "mimetype": "text/x-python",
   "name": "python",
   "nbconvert_exporter": "python",
   "pygments_lexer": "ipython3",
   "version": "3.6.8"
  }
 },
 "nbformat": 4,
 "nbformat_minor": 2
}
